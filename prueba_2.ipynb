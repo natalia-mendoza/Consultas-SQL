{
 "metadata": {
  "language_info": {
   "codemirror_mode": {
    "name": "ipython",
    "version": 3
   },
   "file_extension": ".py",
   "mimetype": "text/x-python",
   "name": "python",
   "nbconvert_exporter": "python",
   "pygments_lexer": "ipython3",
   "version": "3.7.7"
  },
  "orig_nbformat": 2,
  "kernelspec": {
   "name": "python3",
   "display_name": "Python 3.7.7 64-bit ('venv': venv)"
  },
  "interpreter": {
   "hash": "2a1195f83bca3b4e5835ace4eef00c182cd5f590ce92919622d74eb35cc1911c"
  }
 },
 "nbformat": 4,
 "nbformat_minor": 2,
 "cells": [
  {
   "cell_type": "markdown",
   "source": [
    "Nombre: Natalia Mendoza Mazo\r\n",
    "Prueba Técnica Bancolombia \r\n",
    "Recomendaciones:\r\n",
    "•\tLea toda la prueba antes de comenzar a realizarla.\r\n",
    "•\tRealice primero aquellos puntos en los cuales tiene más conocimiento.\r\n"
   ],
   "metadata": {}
  },
  {
   "cell_type": "markdown",
   "source": [
    "1) SQL (60%)"
   ],
   "metadata": {}
  },
  {
   "cell_type": "code",
   "execution_count": 20,
   "source": [
    "import pandas as pd\r\n",
    "import sqlite3\r\n",
    "con = sqlite3.connect(\"clientes.sqlite\")\r\n",
    "cur = con.cursor()"
   ],
   "outputs": [],
   "metadata": {}
  },
  {
   "cell_type": "markdown",
   "source": [
    "Creacion tablas base de datos"
   ],
   "metadata": {}
  },
  {
   "cell_type": "code",
   "execution_count": 21,
   "source": [
    "cur.execute('DROP TABLE  clave_dinamica')\r\n",
    "cur.execute('DROP TABLE  cuentas')\r\n",
    "cur.execute('DROP TABLE  clientes')"
   ],
   "outputs": [
    {
     "output_type": "execute_result",
     "data": {
      "text/plain": [
       "<sqlite3.Cursor at 0x1311f5ec340>"
      ]
     },
     "metadata": {},
     "execution_count": 21
    }
   ],
   "metadata": {}
  },
  {
   "cell_type": "markdown",
   "source": [
    "Carga de datos"
   ],
   "metadata": {}
  },
  {
   "cell_type": "code",
   "execution_count": 22,
   "source": [
    "f_clientes = open(\"clientes_create.sql\", \"r\")\r\n",
    "cur.execute(f_clientes.read())\r\n",
    "f_cuentas = open(\"cuentas_create.sql\", \"r\")\r\n",
    "cur.execute(f_cuentas.read())\r\n",
    "f_clave = open(\"clave_create.sql\", \"r\")\r\n",
    "cur.execute(f_clave.read())\r\n",
    "con.commit()"
   ],
   "outputs": [],
   "metadata": {}
  },
  {
   "cell_type": "code",
   "execution_count": 23,
   "source": [
    "f_clientes = open(\"insert_clientes.sql\", \"r\")\r\n",
    "cur.execute(f_clientes.read())\r\n",
    "f_cuentas = open(\"insert_cuentas.sql\", \"r\")\r\n",
    "cur.execute(f_cuentas.read())\r\n",
    "f_claves = open(\"insert_clave.sql\", \"r\")\r\n",
    "cur.execute(f_claves.read())\r\n",
    "con.commit()"
   ],
   "outputs": [],
   "metadata": {}
  },
  {
   "cell_type": "markdown",
   "source": [
    "a- Seleccionar todos los clientes"
   ],
   "metadata": {}
  },
  {
   "cell_type": "code",
   "execution_count": 24,
   "source": [
    "df = pd.read_sql_query(\"SELECT * from clientes\", con)\r\n",
    "print(df)"
   ],
   "outputs": [
    {
     "output_type": "stream",
     "name": "stdout",
     "text": [
      "      Cedula              Nombre  Region  Edad\n",
      "0   11111111     Tom B. Erichsen  Centro    35\n",
      "1   22222222     Natalia Mendoza     Sur    24\n",
      "2   33333333      Carlos Sanchez  Centro    35\n",
      "3   44444444       Manuel Garcia   Norte    32\n",
      "4   55555555      Silvia Cardona  Centro    35\n",
      "5   66666666  Antonio Guitierrez   Norte    35\n",
      "6   77777777      Camilo Sanchez     Sur    29\n",
      "7   88888888    Miguel Campusano  Centro    38\n",
      "8   99999999       Luisa Alvarez  Centro    35\n",
      "9   25252525         Paula Gomez     Sur    20\n",
      "10  35353535     Cesar velasquez   Norte    40\n",
      "11  24242424       Mario Montoya  Centro    25\n",
      "12  17171717     Carolina Suarez     Sur    27\n",
      "13  21212121       Diana Herrera  Centro    32\n",
      "14  12121212          Camila Gil   Norte    21\n"
     ]
    }
   ],
   "metadata": {}
  },
  {
   "cell_type": "markdown",
   "source": [
    "b- Seleccionar los clientes que pertenezcan a la region \"Centro\""
   ],
   "metadata": {}
  },
  {
   "cell_type": "code",
   "execution_count": 25,
   "source": [
    "df = pd.read_sql_query('SELECT * from clientes where Region = \"Centro\"', con)\r\n",
    "print(df)"
   ],
   "outputs": [
    {
     "output_type": "stream",
     "name": "stdout",
     "text": [
      "     Cedula            Nombre  Region  Edad\n",
      "0  11111111   Tom B. Erichsen  Centro    35\n",
      "1  33333333    Carlos Sanchez  Centro    35\n",
      "2  55555555    Silvia Cardona  Centro    35\n",
      "3  88888888  Miguel Campusano  Centro    38\n",
      "4  99999999     Luisa Alvarez  Centro    35\n",
      "5  24242424     Mario Montoya  Centro    25\n",
      "6  21212121     Diana Herrera  Centro    32\n"
     ]
    }
   ],
   "metadata": {}
  },
  {
   "cell_type": "markdown",
   "source": [
    "c- Seleccionar los clientes que tengan mas de 3 cuentas abiertas en estado activo"
   ],
   "metadata": {}
  },
  {
   "cell_type": "code",
   "execution_count": 32,
   "source": [
    "df = pd.read_sql_query('WITH CANT AS (SELECT count(*) as Cant, clientes.* from clientes inner join cuentas on clientes.Cedula = cuentas.Cedula_cliente where Estado = 1 group by clientes.Cedula) SELECT * FROM CANT WHERE CANT.Cant >3', con)\r\n",
    "print(df)"
   ],
   "outputs": [
    {
     "output_type": "stream",
     "name": "stdout",
     "text": [
      "   Cant    Cedula       Nombre Region  Edad\n",
      "0     4  25252525  Paula Gomez    Sur    20\n"
     ]
    }
   ],
   "metadata": {}
  },
  {
   "cell_type": "markdown",
   "source": [
    "d- Seleccionar solamente el nombre de aquellos clientes que tienen clave dinamica"
   ],
   "metadata": {}
  },
  {
   "cell_type": "code",
   "execution_count": 27,
   "source": [
    "df = pd.read_sql_query('SELECT Nombre from clientes INNER JOIN clave_dinamica ON clientes.Cedula = clave_dinamica.cedula_cliente', con)\r\n",
    "print(df)"
   ],
   "outputs": [
    {
     "output_type": "stream",
     "name": "stdout",
     "text": [
      "               Nombre\n",
      "0     Tom B. Erichsen\n",
      "1     Natalia Mendoza\n",
      "2      Carlos Sanchez\n",
      "3       Manuel Garcia\n",
      "4      Silvia Cardona\n",
      "5  Antonio Guitierrez\n",
      "6     Cesar velasquez\n",
      "7       Mario Montoya\n",
      "8     Carolina Suarez\n",
      "9       Diana Herrera\n"
     ]
    }
   ],
   "metadata": {}
  },
  {
   "cell_type": "markdown",
   "source": [
    "e- Seleccionar los clientes que no tienen clave dinamica"
   ],
   "metadata": {}
  },
  {
   "cell_type": "code",
   "execution_count": 35,
   "source": [
    "\r\n",
    "df = pd.read_sql_query('SELECT Cedula, Nombre, Region, Edad from clientes left outer JOIN clave_dinamica ON clientes.Cedula = clave_dinamica.cedula_cliente where clientes.Cedula is null or clave_dinamica.cedula_cliente is null', con)\r\n",
    "print(df)"
   ],
   "outputs": [
    {
     "output_type": "stream",
     "name": "stdout",
     "text": [
      "     Cedula            Nombre  Region  Edad\n",
      "0  77777777    Camilo Sanchez     Sur    29\n",
      "1  88888888  Miguel Campusano  Centro    38\n",
      "2  99999999     Luisa Alvarez  Centro    35\n",
      "3  25252525       Paula Gomez     Sur    20\n",
      "4  12121212        Camila Gil   Norte    21\n"
     ]
    }
   ],
   "metadata": {}
  },
  {
   "cell_type": "markdown",
   "source": [
    "f- Mostrar el saldo total de todas las cuentas agrupado por la region del cliente"
   ],
   "metadata": {}
  },
  {
   "cell_type": "code",
   "execution_count": 29,
   "source": [
    "df = pd.read_sql_query('SELECT SUM(cuentas.Saldo) as Saldo_Total, clientes.Region from clientes INNER JOIN cuentas ON clientes.Cedula = cuentas.Cedula_cliente group by clientes.Region', con)\r\n",
    "print(df)"
   ],
   "outputs": [
    {
     "output_type": "stream",
     "name": "stdout",
     "text": [
      "   Saldo_Total  Region\n",
      "0       183771  Centro\n",
      "1       394464   Norte\n",
      "2       442712     Sur\n"
     ]
    }
   ],
   "metadata": {}
  },
  {
   "cell_type": "markdown",
   "source": [
    "g- Seleccionar el saldo total de las cuentas activas, abiertas en el mes de mayo de 2018, cuyos\n",
    "clientes tengan clave dinámica."
   ],
   "metadata": {}
  },
  {
   "cell_type": "code",
   "execution_count": 30,
   "source": [
    "df = pd.read_sql_query('SELECT SUM(Saldo) as Saldo_Total from cuentas INNER JOIN clave_dinamica ON cuentas.Cedula_cliente = clave_dinamica.cedula_cliente WHERE cuentas.Estado = 1 AND cuentas.Fecha_apertura >= 20180501 AND cuentas.Fecha_apertura <= 20180531' , con)\r\n",
    "print(df)"
   ],
   "outputs": [
    {
     "output_type": "stream",
     "name": "stdout",
     "text": [
      "   Saldo_Total\n",
      "0         1245\n"
     ]
    }
   ],
   "metadata": {}
  },
  {
   "cell_type": "code",
   "execution_count": null,
   "source": [],
   "outputs": [],
   "metadata": {}
  },
  {
   "cell_type": "markdown",
   "source": [
    "2) Programación (40%)\r\n"
   ],
   "metadata": {}
  },
  {
   "cell_type": "markdown",
   "source": [
    "1) secuencia"
   ],
   "metadata": {}
  },
  {
   "cell_type": "code",
   "execution_count": 40,
   "source": [
    "y =[]\r\n",
    "x = 0\r\n",
    "while x != -1:\r\n",
    "    x = int(input(\"Ingresa un valor:  \"))\r\n",
    "    if x != -1:\r\n",
    "        y.append(x)\r\n",
    "print('La secuencia ', y)\r\n",
    "\r\n",
    "prom1 = sum(y)/len(y)\r\n",
    "print('El promedio de la secuencia: ',prom1)\r\n",
    "for a in y[:]:\r\n",
    "    if a < prom1:\r\n",
    "        y.remove(a)\r\n",
    "print('valores por encima del promedio: ',y)\r\n",
    "prom2 = sum(y)/len(y)\r\n",
    "print('El promedio: ',prom2)"
   ],
   "outputs": [
    {
     "output_type": "stream",
     "name": "stdout",
     "text": [
      "La secuencia  [10, 20, 30, 40, 50, 60]\n",
      "valores por encima del promedio  [40, 50, 60]\n",
      "El promedio  50.0\n"
     ]
    }
   ],
   "metadata": {}
  },
  {
   "cell_type": "markdown",
   "source": [
    "2) par numeros"
   ],
   "metadata": {}
  },
  {
   "cell_type": "code",
   "execution_count": 5,
   "source": [
    "def ordanmiento_numero(lista, x):\r\n",
    "    numero = 0\r\n",
    "    cal = []\r\n",
    "    total = []\r\n",
    "    valor=0\r\n",
    "    num = {\"uno\":0,\"dos\":0}\r\n",
    "    for index,l in enumerate(lista, start=0):\r\n",
    "        l2= lista[index+1:len(lista)]\r\n",
    "        for d in l2:\r\n",
    "            numero = l+d\r\n",
    "           \r\n",
    "            if numero > x:\r\n",
    "                val = numero - x\r\n",
    "            elif numero < x:\r\n",
    "                val = x-numero\r\n",
    "\r\n",
    "            if val < valor :\r\n",
    "                num[\"uno\"]=l\r\n",
    "                num[\"dos\"]=d\r\n",
    "                valor=val\r\n",
    "            elif valor==0:\r\n",
    "                num[\"uno\"]=l\r\n",
    "                num[\"dos\"]=d\r\n",
    "                valor=val\r\n",
    "            \r\n",
    "        # mayor = max(cal)\r\n",
    "        # total.append(mayor)\r\n",
    "\r\n",
    "    return num[\"uno\"] ,num[\"dos\"]\r\n",
    "datos = int(input('Ingrese la cantidad de datos a operar: '))\r\n",
    "x = int(input('Ingresar el valor de x: '))\r\n",
    "lis = []\r\n",
    "for d in range(datos):\r\n",
    "    valor = int(input('Ingrese valor'))\r\n",
    "    lis.append(valor)\r\n",
    "lis.sort()    \r\n",
    "print('los valores ingresado son: '+ str(lis))\r\n",
    "num_uno,num_dos=ordanmiento_numero(lis,x)\r\n",
    "print('los valores son: {}  {}'.format(num_uno ,num_dos))"
   ],
   "outputs": [
    {
     "output_type": "stream",
     "name": "stdout",
     "text": [
      "los valores ingresado son: [10, 22, 28, 29, 30, 40]\n",
      "los valores son: 22  30\n"
     ]
    }
   ],
   "metadata": {}
  },
  {
   "cell_type": "code",
   "execution_count": null,
   "source": [],
   "outputs": [],
   "metadata": {}
  }
 ]
}